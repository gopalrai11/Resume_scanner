{
  "nbformat": 4,
  "nbformat_minor": 0,
  "metadata": {
    "colab": {
      "name": "resume_scanner.ipynb",
      "provenance": []
    },
    "kernelspec": {
      "name": "python3",
      "display_name": "Python 3"
    },
    "language_info": {
      "name": "python"
    }
  },
  "cells": [
    {
      "cell_type": "code",
      "execution_count": 1,
      "metadata": {
        "colab": {
          "base_uri": "https://localhost:8080/"
        },
        "id": "XEuokTJxO_AG",
        "outputId": "67a7b881-b2e0-46f8-fb09-041a14389673"
      },
      "outputs": [
        {
          "output_type": "stream",
          "name": "stdout",
          "text": [
            "Looking in indexes: https://pypi.org/simple, https://us-python.pkg.dev/colab-wheels/public/simple/\n",
            "Collecting docx2txt\n",
            "  Downloading docx2txt-0.8.tar.gz (2.8 kB)\n",
            "Building wheels for collected packages: docx2txt\n",
            "  Building wheel for docx2txt (setup.py) ... \u001b[?25l\u001b[?25hdone\n",
            "  Created wheel for docx2txt: filename=docx2txt-0.8-py3-none-any.whl size=3980 sha256=4330ebbc4ccf9ef8460cdaf15cb689d297855082cf4ae556c20c3439394b0c73\n",
            "  Stored in directory: /root/.cache/pip/wheels/b7/20/b2/473e3aea9a0c0d3e7b2f7bd81d06d0794fec12752733d1f3a8\n",
            "Successfully built docx2txt\n",
            "Installing collected packages: docx2txt\n",
            "Successfully installed docx2txt-0.8\n"
          ]
        }
      ],
      "source": [
        "!pip install docx2txt"
      ]
    },
    {
      "cell_type": "code",
      "source": [
        "import docx2txt\n",
        "job_description=docx2txt.process('/content/job_description.docx')\n",
        "resume=docx2txt.process('/content/resume2.docx')\n"
      ],
      "metadata": {
        "id": "C0HYo1x1P3eN"
      },
      "execution_count": 4,
      "outputs": []
    },
    {
      "cell_type": "code",
      "source": [
        "print(resume)"
      ],
      "metadata": {
        "colab": {
          "base_uri": "https://localhost:8080/"
        },
        "id": "-Xbqd6JQQOIx",
        "outputId": "442ea4a3-4fd9-4278-fda7-59883fe1d0ed"
      },
      "execution_count": 5,
      "outputs": [
        {
          "output_type": "stream",
          "name": "stdout",
          "text": [
            "Maudie Leffler\n",
            "\n",
            "77795 Delfina Fords San Francisco CA  Phone +1 (555) 373 3338\n",
            "\n",
            "EXPERIENCE\n",
            "\n",
            "Philadelphia, PA\n",
            "\n",
            "HEANEY-MCLAUGHLIN\n",
            "\n",
            "Contributing towards the creation of a set of tools, techniques and practices that maximise the impact and efficiency of the team in…\n",
            "\n",
            "Analyzing large data sets, including synthesizing quantitative results, deriving business implications and making clear recommendations\n",
            "\n",
            "Selecting features, building and optimizing classifiers using machine learning techniques\n",
            "\n",
            "Harvesting of data from multiple systems globally\n",
            "\n",
            "Evaluating statistical information to determine risk or non-compliance\n",
            "\n",
            "Publishing activities - including publishing from internal content systems, checking content in checkout, promoting from checkout\n",
            "\n",
            "Supporting analytics users throughout the organization\n",
            "\n",
            "Dallas, TX\n",
            "\n",
            "KSHLERIN-MOHR\n",
            "\n",
            "present\n",
            "\n",
            "Building and productionizing predictive models on large datasets by utilizing advanced statistical modeling, machine learning, or other data mining techniques\n",
            "\n",
            "Utilizing predictive models to build strategies that can address key issues in growth and operations\n",
            "\n",
            "Pursuing a BS/BA/MS in a Mathematics, Physics, Statistics, Computer science, Finance, Operations Research, or related fields\n",
            "\n",
            "Working knowledge in configuration management and ITIL processes\n",
            "\n",
            "Managing the day-to-day activities of the research team\n",
            "\n",
            "Staying up-to-date with trends, papers, and academia\n",
            "\n",
            "Documenting recommendations in written reports and presentations to the customer\n",
            "\n",
            "EDUCATION\n",
            "\n",
            "Bachelor’s Degree in Computer Science\n",
            "\n",
            "UNIVERSITY OF CALIFORNIA, SAN DIEGO\n",
            "\n",
            "SKILLS\n",
            "\n",
            "Ability to tell stories with data using data visualization software such as Tableau, Excel, SPSS, or similar software in conjunction with strong verbal ability\n",
            "\n",
            "Strong attention to detail, excellent organizational skills, and ability to manage multiple projects and responsibilities\n",
            "\n",
            "Ability to analyze data and translate results into valuable knowledge information. Excellent problem solving skills essential\n",
            "\n",
            "Highly motivated self-starter with experience producing high quality data deliverables and able to work independently and in a team environment\n",
            "\n",
            "Ability to deliver on tight timelines and move quickly while maintaining attention to detail\n",
            "\n",
            "Capability with Unit Test code for robustness, usability, and reliability\n",
            "\n",
            "Strong SQL and knowledge of data extraction and manipulation techniques including the ability to stage and import large volumes of data\n",
            "\n",
            "Ability to explore different directions based on data and be able to quickly change direction based on the analysis\n",
            "\n",
            "Strong communication skills and ability to thrive in a fast paced, multiple deliverables, team-oriented environment\n",
            "\n",
            "Ability to learn quickly in various technical and creative environments, while delivering quality work by tight deadlines\n"
          ]
        }
      ]
    },
    {
      "cell_type": "code",
      "source": [
        "content=[job_description, resume]"
      ],
      "metadata": {
        "id": "IF9afZpVQh7b"
      },
      "execution_count": 6,
      "outputs": []
    },
    {
      "cell_type": "code",
      "source": [
        "from sklearn.feature_extraction.text import CountVectorizer\n",
        "cv=CountVectorizer()\n",
        "matrix= cv.fit_transform(content)"
      ],
      "metadata": {
        "id": "4HE3t8kBQsab"
      },
      "execution_count": 7,
      "outputs": []
    },
    {
      "cell_type": "code",
      "source": [
        "from sklearn.metrics.pairwise import cosine_similarity\n",
        "similarity_matrix=cosine_similarity(matrix)"
      ],
      "metadata": {
        "id": "cKFTnO2AQ8JU"
      },
      "execution_count": 8,
      "outputs": []
    },
    {
      "cell_type": "code",
      "source": [
        "print(similarity_matrix)"
      ],
      "metadata": {
        "colab": {
          "base_uri": "https://localhost:8080/"
        },
        "id": "3viHSciERgas",
        "outputId": "58ab4eb4-51ab-4ed8-b916-fa7576c5828f"
      },
      "execution_count": 9,
      "outputs": [
        {
          "output_type": "stream",
          "name": "stdout",
          "text": [
            "[[1.         0.71066683]\n",
            " [0.71066683 1.        ]]\n"
          ]
        }
      ]
    },
    {
      "cell_type": "code",
      "source": [
        "print('Resume matched with ' +str(round(similarity_matrix[1][0]*100,2))+ '%')"
      ],
      "metadata": {
        "colab": {
          "base_uri": "https://localhost:8080/"
        },
        "id": "3NXDR_4tRmLS",
        "outputId": "41748e75-060b-4d86-c371-f6dbb8405721"
      },
      "execution_count": 15,
      "outputs": [
        {
          "output_type": "stream",
          "name": "stdout",
          "text": [
            "Resume matched with 71.07%\n"
          ]
        }
      ]
    },
    {
      "cell_type": "code",
      "source": [
        ""
      ],
      "metadata": {
        "id": "vQmA8uqu7M-A"
      },
      "execution_count": null,
      "outputs": []
    }
  ]
}