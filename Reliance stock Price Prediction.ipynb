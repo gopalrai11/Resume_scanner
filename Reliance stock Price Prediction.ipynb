{
 "cells": [
  {
   "cell_type": "code",
   "execution_count": 1,
   "id": "47afb372",
   "metadata": {},
   "outputs": [
    {
     "name": "stdout",
     "output_type": "stream",
     "text": [
      "Requirement already satisfied: nsepy in c:\\users\\gopal\\anaconda3\\lib\\site-packages (0.8)Note: you may need to restart the kernel to use updated packages.\n",
      "\n",
      "Requirement already satisfied: lxml in c:\\users\\gopal\\anaconda3\\lib\\site-packages (from nsepy) (4.6.3)\n",
      "Requirement already satisfied: pandas in c:\\users\\gopal\\anaconda3\\lib\\site-packages (from nsepy) (1.2.4)\n",
      "Requirement already satisfied: beautifulsoup4 in c:\\users\\gopal\\anaconda3\\lib\\site-packages (from nsepy) (4.9.3)\n",
      "Requirement already satisfied: requests in c:\\users\\gopal\\anaconda3\\lib\\site-packages (from nsepy) (2.25.1)\n",
      "Requirement already satisfied: numpy in c:\\users\\gopal\\anaconda3\\lib\\site-packages (from nsepy) (1.20.1)\n",
      "Requirement already satisfied: click in c:\\users\\gopal\\anaconda3\\lib\\site-packages (from nsepy) (7.1.2)"
     ]
    }
   ],
   "source": [
    "pip install nsepy"
   ]
  },
  {
   "cell_type": "code",
   "execution_count": 2,
   "id": "5f2cf9c9",
   "metadata": {},
   "outputs": [
    {
     "name": "stdout",
     "output_type": "stream",
     "text": [
      "Requirement already satisfied: six in c:\\users\\gopal\\anaconda3\\lib\\site-packages (from nsepy) (1.15.0)\n",
      "Requirement already satisfied: soupsieve>1.2 in c:\\users\\gopal\\anaconda3\\lib\\site-packages (from beautifulsoup4->nsepy) (2.2.1)\n",
      "Requirement already satisfied: pytz>=2017.3 in c:\\users\\gopal\\anaconda3\\lib\\site-packages (from pandas->nsepy) (2021.1)\n",
      "Requirement already satisfied: python-dateutil>=2.7.3 in c:\\users\\gopal\\anaconda3\\lib\\site-packages (from pandas->nsepy) (2.8.1)\n",
      "Requirement already satisfied: chardet<5,>=3.0.2 in c:\\users\\gopal\\anaconda3\\lib\\site-packages (from requests->nsepy) (4.0.0)\n",
      "Requirement already satisfied: certifi>=2017.4.17 in c:\\users\\gopal\\anaconda3\\lib\\site-packages (from requests->nsepy) (2020.12.5)\n",
      "Requirement already satisfied: urllib3<1.27,>=1.21.1 in c:\\users\\gopal\\anaconda3\\lib\\site-packages (from requests->nsepy) (1.26.4)\n",
      "Requirement already satisfied: idna<3,>=2.5 in c:\\users\\gopal\\anaconda3\\lib\\site-packages (from requests->nsepy) (2.10)\n",
      "Collecting git+https://github.com/StreamAlpha/pynse.git\n",
      "  Cloning https://github.com/StreamAlpha/pynse.git to c:\\users\\gopal\\appdata\\local\\temp\\pip-req-build-bhf2i_vn\n",
      "Note: you may need to restart the kernel to use updated packages.\n"
     ]
    },
    {
     "name": "stderr",
     "output_type": "stream",
     "text": [
      "  Running command git clone -q https://github.com/StreamAlpha/pynse.git 'C:\\Users\\gopal\\AppData\\Local\\Temp\\pip-req-build-bhf2i_vn'\n",
      "  bash: /dev/tty: No such device or address\n",
      "  error: failed to execute prompt script (exit code 1)\n",
      "  fatal: could not read Username for 'https://github.com': No such file or directory\n",
      "WARNING: Discarding git+https://github.com/StreamAlpha/pynse.git. Command errored out with exit status 128: git clone -q https://github.com/StreamAlpha/pynse.git 'C:\\Users\\gopal\\AppData\\Local\\Temp\\pip-req-build-bhf2i_vn' Check the logs for full command output.\n",
      "ERROR: Command errored out with exit status 128: git clone -q https://github.com/StreamAlpha/pynse.git 'C:\\Users\\gopal\\AppData\\Local\\Temp\\pip-req-build-bhf2i_vn' Check the logs for full command output.\n"
     ]
    }
   ],
   "source": [
    "pip install --upgrade git+https://github.com/StreamAlpha/pynse.git\n"
   ]
  },
  {
   "cell_type": "markdown",
   "id": "34a38cff",
   "metadata": {},
   "source": [
    "# Importing libraries"
   ]
  },
  {
   "cell_type": "markdown",
   "id": "bdd59c8d",
   "metadata": {},
   "source": [
    "Let’s look at how to forecast or predict stock prices with Machine Learning and the Python programming language. I’ll begin by importing all of the Python libraries that will require for this task:"
   ]
  },
  {
   "cell_type": "code",
   "execution_count": 3,
   "id": "35fd1168",
   "metadata": {},
   "outputs": [],
   "source": [
    "import numpy as np\n",
    "import matplotlib.pyplot as plt\n",
    "import pandas as pd\n",
    "from sklearn import preprocessing\n",
    "from sklearn import metrics\n",
    "from sklearn.model_selection import train_test_split\n",
    "from sklearn.linear_model import LinearRegression"
   ]
  },
  {
   "cell_type": "code",
   "execution_count": 4,
   "id": "06058ec3",
   "metadata": {},
   "outputs": [
    {
     "name": "stderr",
     "output_type": "stream",
     "text": [
      "INFO:pynse.core:pyNse cache size: (7.09, 'MB').\n",
      "You may want to run `nse.clear_data()` if running low on disk space.\n"
     ]
    },
    {
     "name": "stdout",
     "output_type": "stream",
     "text": [
      "<pynse.core.Nse object at 0x000001C66385BFA0>\n"
     ]
    }
   ],
   "source": [
    "from pynse import *\n",
    "import datetime as dt\n",
    "import logging\n",
    "logging.basicConfig(level=logging.DEBUG)\n",
    "\n",
    "\n",
    "nse=Nse()\n",
    "print(nse)"
   ]
  },
  {
   "cell_type": "markdown",
   "id": "36a3b9bb",
   "metadata": {},
   "source": [
    "# Data Preparation"
   ]
  },
  {
   "cell_type": "code",
   "execution_count": 10,
   "id": "84804f49",
   "metadata": {},
   "outputs": [
    {
     "name": "stderr",
     "output_type": "stream",
     "text": [
      "DEBUG:urllib3.connectionpool:Starting new HTTPS connection (1): www.nseindia.com:443\n",
      "DEBUG:urllib3.connectionpool:https://www.nseindia.com:443 \"GET / HTTP/1.1\" 200 None\n",
      "DEBUG:urllib3.connectionpool:https://www.nseindia.com:443 \"GET /api/historical/cm/equity?symbol=RELIANCE&series=%5B%22EQ%22%5D&from=01-01-2021&to=26-04-2022&csv=true HTTP/1.1\" 200 14715\n",
      "DEBUG:urllib3.connectionpool:Starting new HTTPS connection (1): www.nseindia.com:443\n",
      "DEBUG:urllib3.connectionpool:https://www.nseindia.com:443 \"GET / HTTP/1.1\" 200 None\n",
      "DEBUG:urllib3.connectionpool:https://www.nseindia.com:443 \"GET /api/historical/cm/equity?symbol=RELIANCE&series=%5B%22EQ%22%5D&from=27-04-2022&to=05-05-2022&csv=true HTTP/1.1\" 200 464\n"
     ]
    },
    {
     "data": {
      "text/html": [
       "<div>\n",
       "<style scoped>\n",
       "    .dataframe tbody tr th:only-of-type {\n",
       "        vertical-align: middle;\n",
       "    }\n",
       "\n",
       "    .dataframe tbody tr th {\n",
       "        vertical-align: top;\n",
       "    }\n",
       "\n",
       "    .dataframe thead th {\n",
       "        text-align: right;\n",
       "    }\n",
       "</style>\n",
       "<table border=\"1\" class=\"dataframe\">\n",
       "  <thead>\n",
       "    <tr style=\"text-align: right;\">\n",
       "      <th></th>\n",
       "      <th>open</th>\n",
       "      <th>high</th>\n",
       "      <th>low</th>\n",
       "      <th>close</th>\n",
       "      <th>volume</th>\n",
       "    </tr>\n",
       "    <tr>\n",
       "      <th>Date</th>\n",
       "      <th></th>\n",
       "      <th></th>\n",
       "      <th></th>\n",
       "      <th></th>\n",
       "      <th></th>\n",
       "    </tr>\n",
       "  </thead>\n",
       "  <tbody>\n",
       "    <tr>\n",
       "      <th>2021-01-01</th>\n",
       "      <td>1988.00</td>\n",
       "      <td>1997.00</td>\n",
       "      <td>1982.00</td>\n",
       "      <td>1987.50</td>\n",
       "      <td>4622002</td>\n",
       "    </tr>\n",
       "    <tr>\n",
       "      <th>2021-01-04</th>\n",
       "      <td>1995.10</td>\n",
       "      <td>1998.90</td>\n",
       "      <td>1968.00</td>\n",
       "      <td>1990.85</td>\n",
       "      <td>11312992</td>\n",
       "    </tr>\n",
       "    <tr>\n",
       "      <th>2021-01-05</th>\n",
       "      <td>1969.00</td>\n",
       "      <td>1983.60</td>\n",
       "      <td>1956.00</td>\n",
       "      <td>1966.10</td>\n",
       "      <td>11132803</td>\n",
       "    </tr>\n",
       "    <tr>\n",
       "      <th>2021-01-06</th>\n",
       "      <td>1965.90</td>\n",
       "      <td>1966.00</td>\n",
       "      <td>1905.15</td>\n",
       "      <td>1914.25</td>\n",
       "      <td>21414270</td>\n",
       "    </tr>\n",
       "    <tr>\n",
       "      <th>2021-01-07</th>\n",
       "      <td>1920.50</td>\n",
       "      <td>1945.00</td>\n",
       "      <td>1905.15</td>\n",
       "      <td>1911.15</td>\n",
       "      <td>14918406</td>\n",
       "    </tr>\n",
       "    <tr>\n",
       "      <th>...</th>\n",
       "      <td>...</td>\n",
       "      <td>...</td>\n",
       "      <td>...</td>\n",
       "      <td>...</td>\n",
       "      <td>...</td>\n",
       "    </tr>\n",
       "    <tr>\n",
       "      <th>2022-04-28</th>\n",
       "      <td>2809.95</td>\n",
       "      <td>2851.00</td>\n",
       "      <td>2786.10</td>\n",
       "      <td>2819.85</td>\n",
       "      <td>11820892</td>\n",
       "    </tr>\n",
       "    <tr>\n",
       "      <th>2022-04-29</th>\n",
       "      <td>2856.15</td>\n",
       "      <td>2856.15</td>\n",
       "      <td>2777.30</td>\n",
       "      <td>2790.25</td>\n",
       "      <td>8406156</td>\n",
       "    </tr>\n",
       "    <tr>\n",
       "      <th>2022-05-02</th>\n",
       "      <td>2762.00</td>\n",
       "      <td>2805.50</td>\n",
       "      <td>2758.05</td>\n",
       "      <td>2780.45</td>\n",
       "      <td>4369022</td>\n",
       "    </tr>\n",
       "    <tr>\n",
       "      <th>2022-05-04</th>\n",
       "      <td>2785.00</td>\n",
       "      <td>2790.00</td>\n",
       "      <td>2676.30</td>\n",
       "      <td>2693.65</td>\n",
       "      <td>8882792</td>\n",
       "    </tr>\n",
       "    <tr>\n",
       "      <th>2022-05-05</th>\n",
       "      <td>2723.50</td>\n",
       "      <td>2730.00</td>\n",
       "      <td>2632.00</td>\n",
       "      <td>2640.90</td>\n",
       "      <td>7942721</td>\n",
       "    </tr>\n",
       "  </tbody>\n",
       "</table>\n",
       "<p>331 rows × 5 columns</p>\n",
       "</div>"
      ],
      "text/plain": [
       "               open     high      low    close    volume\n",
       "Date                                                    \n",
       "2021-01-01  1988.00  1997.00  1982.00  1987.50   4622002\n",
       "2021-01-04  1995.10  1998.90  1968.00  1990.85  11312992\n",
       "2021-01-05  1969.00  1983.60  1956.00  1966.10  11132803\n",
       "2021-01-06  1965.90  1966.00  1905.15  1914.25  21414270\n",
       "2021-01-07  1920.50  1945.00  1905.15  1911.15  14918406\n",
       "...             ...      ...      ...      ...       ...\n",
       "2022-04-28  2809.95  2851.00  2786.10  2819.85  11820892\n",
       "2022-04-29  2856.15  2856.15  2777.30  2790.25   8406156\n",
       "2022-05-02  2762.00  2805.50  2758.05  2780.45   4369022\n",
       "2022-05-04  2785.00  2790.00  2676.30  2693.65   8882792\n",
       "2022-05-05  2723.50  2730.00  2632.00  2640.90   7942721\n",
       "\n",
       "[331 rows x 5 columns]"
      ]
     },
     "execution_count": 10,
     "metadata": {},
     "output_type": "execute_result"
    }
   ],
   "source": [
    "df=nse.get_hist('RELIANCE',from_date=dt.date(2021,1,1),to_date=dt.date(2022,5,5))\n",
    "df"
   ]
  },
  {
   "cell_type": "code",
   "execution_count": 9,
   "id": "0929ca68",
   "metadata": {},
   "outputs": [
    {
     "data": {
      "text/html": [
       "<div>\n",
       "<style scoped>\n",
       "    .dataframe tbody tr th:only-of-type {\n",
       "        vertical-align: middle;\n",
       "    }\n",
       "\n",
       "    .dataframe tbody tr th {\n",
       "        vertical-align: top;\n",
       "    }\n",
       "\n",
       "    .dataframe thead th {\n",
       "        text-align: right;\n",
       "    }\n",
       "</style>\n",
       "<table border=\"1\" class=\"dataframe\">\n",
       "  <thead>\n",
       "    <tr style=\"text-align: right;\">\n",
       "      <th></th>\n",
       "      <th>open</th>\n",
       "      <th>high</th>\n",
       "      <th>low</th>\n",
       "      <th>close</th>\n",
       "      <th>volume</th>\n",
       "    </tr>\n",
       "  </thead>\n",
       "  <tbody>\n",
       "    <tr>\n",
       "      <th>count</th>\n",
       "      <td>331.000000</td>\n",
       "      <td>331.000000</td>\n",
       "      <td>331.000000</td>\n",
       "      <td>331.000000</td>\n",
       "      <td>3.310000e+02</td>\n",
       "    </tr>\n",
       "    <tr>\n",
       "      <th>mean</th>\n",
       "      <td>2274.189728</td>\n",
       "      <td>2299.381722</td>\n",
       "      <td>2248.391390</td>\n",
       "      <td>2273.335196</td>\n",
       "      <td>7.873829e+06</td>\n",
       "    </tr>\n",
       "    <tr>\n",
       "      <th>std</th>\n",
       "      <td>243.371839</td>\n",
       "      <td>246.589783</td>\n",
       "      <td>240.593312</td>\n",
       "      <td>243.986326</td>\n",
       "      <td>4.557177e+06</td>\n",
       "    </tr>\n",
       "    <tr>\n",
       "      <th>min</th>\n",
       "      <td>1859.400000</td>\n",
       "      <td>1905.000000</td>\n",
       "      <td>1830.000000</td>\n",
       "      <td>1841.950000</td>\n",
       "      <td>7.871600e+05</td>\n",
       "    </tr>\n",
       "    <tr>\n",
       "      <th>25%</th>\n",
       "      <td>2071.950000</td>\n",
       "      <td>2090.450000</td>\n",
       "      <td>2040.775000</td>\n",
       "      <td>2065.050000</td>\n",
       "      <td>4.987274e+06</td>\n",
       "    </tr>\n",
       "    <tr>\n",
       "      <th>50%</th>\n",
       "      <td>2255.000000</td>\n",
       "      <td>2292.900000</td>\n",
       "      <td>2240.300000</td>\n",
       "      <td>2258.150000</td>\n",
       "      <td>6.568539e+06</td>\n",
       "    </tr>\n",
       "    <tr>\n",
       "      <th>75%</th>\n",
       "      <td>2452.000000</td>\n",
       "      <td>2486.500000</td>\n",
       "      <td>2425.050000</td>\n",
       "      <td>2461.475000</td>\n",
       "      <td>9.403385e+06</td>\n",
       "    </tr>\n",
       "    <tr>\n",
       "      <th>max</th>\n",
       "      <td>2856.150000</td>\n",
       "      <td>2856.150000</td>\n",
       "      <td>2786.100000</td>\n",
       "      <td>2819.850000</td>\n",
       "      <td>4.220969e+07</td>\n",
       "    </tr>\n",
       "  </tbody>\n",
       "</table>\n",
       "</div>"
      ],
      "text/plain": [
       "              open         high          low        close        volume\n",
       "count   331.000000   331.000000   331.000000   331.000000  3.310000e+02\n",
       "mean   2274.189728  2299.381722  2248.391390  2273.335196  7.873829e+06\n",
       "std     243.371839   246.589783   240.593312   243.986326  4.557177e+06\n",
       "min    1859.400000  1905.000000  1830.000000  1841.950000  7.871600e+05\n",
       "25%    2071.950000  2090.450000  2040.775000  2065.050000  4.987274e+06\n",
       "50%    2255.000000  2292.900000  2240.300000  2258.150000  6.568539e+06\n",
       "75%    2452.000000  2486.500000  2425.050000  2461.475000  9.403385e+06\n",
       "max    2856.150000  2856.150000  2786.100000  2819.850000  4.220969e+07"
      ]
     },
     "execution_count": 9,
     "metadata": {},
     "output_type": "execute_result"
    }
   ],
   "source": [
    "df.describe()"
   ]
  },
  {
   "cell_type": "code",
   "execution_count": 13,
   "id": "0a8b8912",
   "metadata": {},
   "outputs": [
    {
     "name": "stdout",
     "output_type": "stream",
     "text": [
      "[[1.9970000e+03 1.9820000e+03 1.9880000e+03 4.6220020e+06]\n",
      " [1.9989000e+03 1.9680000e+03 1.9951000e+03 1.1312992e+07]\n",
      " [1.9836000e+03 1.9560000e+03 1.9690000e+03 1.1132803e+07]\n",
      " ...\n",
      " [2.8055000e+03 2.7580500e+03 2.7620000e+03 4.3690220e+06]\n",
      " [2.7900000e+03 2.6763000e+03 2.7850000e+03 8.8827920e+06]\n",
      " [2.7300000e+03 2.6320000e+03 2.7235000e+03 7.9427210e+06]]\n"
     ]
    }
   ],
   "source": [
    "X = df[['high','low','open','volume']].values\n",
    "y = df['close'].values\n",
    "print(X)"
   ]
  },
  {
   "cell_type": "code",
   "execution_count": 15,
   "id": "f534d619",
   "metadata": {},
   "outputs": [
    {
     "name": "stdout",
     "output_type": "stream",
     "text": [
      "[1987.5  1990.85 1966.1  1914.25 1911.15 1933.7  1897.25 1957.05 1938.8\n",
      " 1960.6  1937.45 1983.95 2016.4  2054.7  2099.4  2049.6  1941.   1895.\n",
      " 1876.55 1841.95 1895.3  1925.8  1930.65 1924.3  1923.75 1951.45 1956.15\n",
      " 1974.3  2055.7  2041.6  2032.6  2059.5  2083.25 2067.7  2080.3  2008.1\n",
      " 2023.45 2061.   2144.35 2085.8  2101.7  2106.   2202.1  2175.85 2178.7\n",
      " 2191.1  2191.05 2181.95 2137.6  2108.9  2100.6  2055.35 2009.1  2082.\n",
      " 2062.4  2087.5  2047.3  1991.45 1994.65 2029.3  2003.1  2021.85 1992.6\n",
      " 1984.3  2002.85 2005.35 1982.05 1911.15 1931.8  1944.3  1932.1  1901.7\n",
      " 1901.15 1906.4  1904.35 1937.85 1988.65 1997.3  2024.05 1994.5  1959.05\n",
      " 1916.6  1920.1  1931.   1931.75 1926.2  1933.15 1913.15 1937.3  1960.35\n",
      " 1987.95 1997.05 1985.4  2002.55 1985.65 1963.15 1970.05 1976.1  2094.8\n",
      " 2160.3  2168.9  2201.25 2209.65 2190.5  2227.4  2214.6  2175.   2183.\n",
      " 2213.15 2244.9  2250.   2211.6  2215.65 2225.65 2237.25 2225.75 2205.35\n",
      " 2153.5  2104.45 2086.   2087.8  2110.65 2097.95 2129.05 2150.2  2124.8\n",
      " 2110.05 2092.6  2071.2  2084.1  2099.7  2086.   2082.35 2112.4  2098.95\n",
      " 2093.8  2120.7  2105.7  2076.85 2055.   2037.35 2053.25 2035.3  2072.5\n",
      " 2087.75 2103.75 2134.25 2089.05 2077.15 2088.05 2117.3  2110.5  2145.65\n",
      " 2173.5  2164.25 2172.65 2148.25 2162.35 2183.7  2202.6  2230.45 2227.4\n",
      " 2270.25 2258.15 2267.1  2294.4  2388.5  2425.6  2440.9  2431.35 2425.6\n",
      " 2371.55 2368.45 2378.3  2428.2  2390.55 2394.35 2404.7  2430.5  2489.9\n",
      " 2482.7  2524.45 2548.05 2527.85 2519.25 2523.7  2556.15 2609.2  2559.85\n",
      " 2572.4  2671.25 2652.65 2667.8  2694.95 2700.4  2707.6  2731.85 2700.4\n",
      " 2622.5  2627.4  2601.8  2661.05 2627.4  2598.6  2536.25 2537.8  2500.8\n",
      " 2483.6  2498.85 2501.95 2521.7  2549.9  2554.55 2593.1  2577.8  2517.9\n",
      " 2464.   2473.3  2363.75 2385.85 2351.4  2492.95 2412.6  2441.5  2405.4\n",
      " 2467.   2482.85 2408.25 2362.6  2381.85 2418.1  2456.45 2458.95 2409.65\n",
      " 2380.15 2373.2  2403.9  2340.45 2277.35 2311.25 2366.1  2365.25 2372.8\n",
      " 2370.25 2398.4  2402.5  2359.1  2368.15 2403.85 2458.1  2469.6  2416.5\n",
      " 2436.   2438.   2455.55 2521.1  2535.3  2539.   2552.25 2521.8  2521.6\n",
      " 2477.45 2477.85 2377.9  2373.25 2338.1  2335.85 2386.6  2378.7  2383.55\n",
      " 2352.75 2331.3  2317.1  2356.05 2383.5  2381.05 2376.4  2338.55 2417.95\n",
      " 2412.95 2443.5  2424.4  2399.9  2389.   2374.05 2255.75 2283.95 2359.55\n",
      " 2398.55 2378.3  2325.55 2239.55 2235.5  2354.1  2392.25 2399.15 2418.85\n",
      " 2363.45 2403.35 2481.7  2467.4  2531.15 2539.2  2578.65 2595.85 2621.95\n",
      " 2622.55 2672.95 2634.75 2655.85 2663.7  2626.05 2619.05 2572.85 2615.65\n",
      " 2610.2  2561.05 2551.65 2543.85 2640.8  2718.45 2782.1  2758.8  2695.\n",
      " 2775.65 2778.35 2819.85 2790.25 2780.45 2693.65 2640.9 ]\n"
     ]
    }
   ],
   "source": [
    "print(y)"
   ]
  },
  {
   "cell_type": "markdown",
   "id": "c6d6be4c",
   "metadata": {},
   "source": [
    "# Applying Machine Learning Algorithms for stock market prediction"
   ]
  },
  {
   "cell_type": "markdown",
   "id": "e19ad712",
   "metadata": {},
   "source": [
    "To be effective, machine learning models require at least two types of data: training data and testing data. Given the difficulty of obtaining new data, a frequent method for generating these subsets of data is to divide a single dataset into many groups that we are using for Stock Price Prediction using Machine Learning.\n",
    "\n",
    "It is typical to use Seventy percent of the data for training and the remaining thirty percent for testing. The most frequent strategy is a 70/30 split, however, other formulaic ways can also be utilized."
   ]
  },
  {
   "cell_type": "code",
   "execution_count": 16,
   "id": "4a427da8",
   "metadata": {},
   "outputs": [],
   "source": [
    "# Split data into testing and training sets\n",
    "X_train, X_test, y_train, y_test = train_test_split(X,y, test_size=0.3, random_state=1)"
   ]
  },
  {
   "cell_type": "markdown",
   "id": "32362a64",
   "metadata": {},
   "source": [
    "We can see that our data has been split into several DataFrame objects, with the nearest whole-number value of rows reflecting our 70/30 split. The test size of 0.30 (30%) was supplied as a parameter to the train test split method."
   ]
  },
  {
   "cell_type": "markdown",
   "id": "69d41b90",
   "metadata": {},
   "source": [
    "# Training the Model"
   ]
  },
  {
   "cell_type": "code",
   "execution_count": 17,
   "id": "eea0c720",
   "metadata": {},
   "outputs": [
    {
     "name": "stdout",
     "output_type": "stream",
     "text": [
      "[ 8.32617949e-01  7.72092993e-01 -6.04829869e-01  3.93429528e-07]\n",
      "[2028.34404023 2369.09907833 2478.75125209 2670.16095448 2381.95159992\n",
      " 2395.47691912 1993.0301662  2594.16378652 1951.18903378 2573.40424249\n",
      " 2584.98923217 1930.20660058 1982.78722602 2469.35273152 2506.22071651\n",
      " 2177.60764261 2556.07480026 2413.95335528 1904.38728892 2101.76488019\n",
      " 2520.76600391 2093.03840634 2209.46364358 2225.52776412 2213.75151354\n",
      " 1909.7208797  2611.15511648 1970.76045897 2358.82170223 2394.37828455\n",
      " 2102.61643809 2406.3909276  2441.46358988 2202.10185659 2543.69462003\n",
      " 2126.22100198 2211.73802564 2648.03054556 1989.89490809 2511.64651877\n",
      " 1966.7596948  2792.07768524 2574.75002383 2296.02002093 2215.02499098\n",
      " 2471.72581632 2026.00795727 1958.28052553 2002.41749098 2656.584657\n",
      " 1999.2610786  2044.0839408  2004.33065513 2553.66425037 2644.18236806\n",
      " 2421.22051105 2693.20969257 1929.37696615 2397.03826688 2362.2502643\n",
      " 2538.09184881 2703.91826825 2368.99502846 2079.24497567 1958.71973278\n",
      " 1896.65226765 2671.4892703  2404.91185022 2259.12896771 2401.40665812\n",
      " 2222.76725602 2110.60244133 2261.06802236 2121.59043866 2402.61111859\n",
      " 2052.32479398 1957.84058481 2394.14619324 1960.5814193  1987.9611549\n",
      " 2414.53260478 2480.27923281 1974.44374823 2375.16271066 2376.6413599\n",
      " 2563.86064166 1937.96770244 2388.07232056 2170.85474044 2101.63889055\n",
      " 2403.32424451 2646.4361318  2413.58541806 2382.25798657 2384.14460052\n",
      " 2097.39509215 2173.55060175 2027.27903194 2086.49055832 2087.85081303]\n"
     ]
    }
   ],
   "source": [
    "#from sklearn.linear_model import LinearRegression\n",
    "# Create Regression Model \n",
    "Model = LinearRegression()\n",
    "\n",
    "# Train the model\n",
    "Model.fit(X_train, y_train)\n",
    "#Printing Coefficient\n",
    "print(Model.coef_)\n",
    "\n",
    "# Use model to make predictions\n",
    "predicted = Model.predict(X_test) \n",
    "print(predicted)"
   ]
  },
  {
   "cell_type": "markdown",
   "id": "6c4bee88",
   "metadata": {},
   "source": [
    "That’s it; our linear model has been trained, and we’ve obtained predicted values (y pred). Now we can examine our model coefficients as well as statistics such as the mean absolute error (MAE) and coefficient of determination to see how well our model fits our data (r2)."
   ]
  },
  {
   "cell_type": "code",
   "execution_count": 18,
   "id": "4bec8ca3",
   "metadata": {},
   "outputs": [
    {
     "data": {
      "text/html": [
       "<div>\n",
       "<style scoped>\n",
       "    .dataframe tbody tr th:only-of-type {\n",
       "        vertical-align: middle;\n",
       "    }\n",
       "\n",
       "    .dataframe tbody tr th {\n",
       "        vertical-align: top;\n",
       "    }\n",
       "\n",
       "    .dataframe thead th {\n",
       "        text-align: right;\n",
       "    }\n",
       "</style>\n",
       "<table border=\"1\" class=\"dataframe\">\n",
       "  <thead>\n",
       "    <tr style=\"text-align: right;\">\n",
       "      <th></th>\n",
       "      <th>Actual</th>\n",
       "      <th>Predicted</th>\n",
       "    </tr>\n",
       "  </thead>\n",
       "  <tbody>\n",
       "    <tr>\n",
       "      <th>0</th>\n",
       "      <td>2029.30</td>\n",
       "      <td>2028.344040</td>\n",
       "    </tr>\n",
       "    <tr>\n",
       "      <th>1</th>\n",
       "      <td>2378.70</td>\n",
       "      <td>2369.099078</td>\n",
       "    </tr>\n",
       "    <tr>\n",
       "      <th>2</th>\n",
       "      <td>2482.70</td>\n",
       "      <td>2478.751252</td>\n",
       "    </tr>\n",
       "    <tr>\n",
       "      <th>3</th>\n",
       "      <td>2667.80</td>\n",
       "      <td>2670.160954</td>\n",
       "    </tr>\n",
       "    <tr>\n",
       "      <th>4</th>\n",
       "      <td>2389.00</td>\n",
       "      <td>2381.951600</td>\n",
       "    </tr>\n",
       "    <tr>\n",
       "      <th>5</th>\n",
       "      <td>2404.70</td>\n",
       "      <td>2395.476919</td>\n",
       "    </tr>\n",
       "    <tr>\n",
       "      <th>6</th>\n",
       "      <td>1985.40</td>\n",
       "      <td>1993.030166</td>\n",
       "    </tr>\n",
       "    <tr>\n",
       "      <th>7</th>\n",
       "      <td>2609.20</td>\n",
       "      <td>2594.163787</td>\n",
       "    </tr>\n",
       "    <tr>\n",
       "      <th>8</th>\n",
       "      <td>1960.35</td>\n",
       "      <td>1951.189034</td>\n",
       "    </tr>\n",
       "    <tr>\n",
       "      <th>9</th>\n",
       "      <td>2572.40</td>\n",
       "      <td>2573.404242</td>\n",
       "    </tr>\n",
       "    <tr>\n",
       "      <th>10</th>\n",
       "      <td>2593.10</td>\n",
       "      <td>2584.989232</td>\n",
       "    </tr>\n",
       "    <tr>\n",
       "      <th>11</th>\n",
       "      <td>1911.15</td>\n",
       "      <td>1930.206601</td>\n",
       "    </tr>\n",
       "    <tr>\n",
       "      <th>12</th>\n",
       "      <td>1994.65</td>\n",
       "      <td>1982.787226</td>\n",
       "    </tr>\n",
       "    <tr>\n",
       "      <th>13</th>\n",
       "      <td>2425.60</td>\n",
       "      <td>2469.352732</td>\n",
       "    </tr>\n",
       "    <tr>\n",
       "      <th>14</th>\n",
       "      <td>2500.80</td>\n",
       "      <td>2506.220717</td>\n",
       "    </tr>\n",
       "    <tr>\n",
       "      <th>15</th>\n",
       "      <td>2183.70</td>\n",
       "      <td>2177.607643</td>\n",
       "    </tr>\n",
       "    <tr>\n",
       "      <th>16</th>\n",
       "      <td>2556.15</td>\n",
       "      <td>2556.074800</td>\n",
       "    </tr>\n",
       "    <tr>\n",
       "      <th>17</th>\n",
       "      <td>2428.20</td>\n",
       "      <td>2413.953355</td>\n",
       "    </tr>\n",
       "    <tr>\n",
       "      <th>18</th>\n",
       "      <td>1897.25</td>\n",
       "      <td>1904.387289</td>\n",
       "    </tr>\n",
       "    <tr>\n",
       "      <th>19</th>\n",
       "      <td>2087.80</td>\n",
       "      <td>2101.764880</td>\n",
       "    </tr>\n",
       "  </tbody>\n",
       "</table>\n",
       "</div>"
      ],
      "text/plain": [
       "     Actual    Predicted\n",
       "0   2029.30  2028.344040\n",
       "1   2378.70  2369.099078\n",
       "2   2482.70  2478.751252\n",
       "3   2667.80  2670.160954\n",
       "4   2389.00  2381.951600\n",
       "5   2404.70  2395.476919\n",
       "6   1985.40  1993.030166\n",
       "7   2609.20  2594.163787\n",
       "8   1960.35  1951.189034\n",
       "9   2572.40  2573.404242\n",
       "10  2593.10  2584.989232\n",
       "11  1911.15  1930.206601\n",
       "12  1994.65  1982.787226\n",
       "13  2425.60  2469.352732\n",
       "14  2500.80  2506.220717\n",
       "15  2183.70  2177.607643\n",
       "16  2556.15  2556.074800\n",
       "17  2428.20  2413.953355\n",
       "18  1897.25  1904.387289\n",
       "19  2087.80  2101.764880"
      ]
     },
     "execution_count": 18,
     "metadata": {},
     "output_type": "execute_result"
    }
   ],
   "source": [
    "data1 = pd.DataFrame({'Actual': y_test.flatten(), 'Predicted' : predicted.flatten()})\n",
    "data1.head(20)"
   ]
  },
  {
   "cell_type": "markdown",
   "id": "031a32b8",
   "metadata": {},
   "source": [
    "# Validating the fit"
   ]
  },
  {
   "cell_type": "code",
   "execution_count": 19,
   "id": "6e32a1d9",
   "metadata": {},
   "outputs": [
    {
     "name": "stdout",
     "output_type": "stream",
     "text": [
      "Mean Absolute Error: 9.407286889875712\n",
      "Mean Squared Error: 147.14414836983343\n",
      "Root Mean Squared Error: 12.13029877496154\n"
     ]
    }
   ],
   "source": [
    "import math\n",
    "print('Mean Absolute Error:', metrics.mean_absolute_error(y_test,predicted))\n",
    "print('Mean Squared Error:', metrics.mean_squared_error(y_test,predicted))\n",
    "print('Root Mean Squared Error:', math.sqrt(metrics.mean_squared_error(y_test,predicted)))"
   ]
  },
  {
   "cell_type": "code",
   "execution_count": 45,
   "id": "7013c215",
   "metadata": {},
   "outputs": [
    {
     "name": "stdout",
     "output_type": "stream",
     "text": [
      "Coefficient of Determination 0.9974780037561748\n"
     ]
    }
   ],
   "source": [
    "from sklearn.metrics import r2_score  \n",
    "R_square = r2_score(data1['Actual'], data1['Predicted']) \n",
    "print('Coefficient of Determination', R_square)"
   ]
  },
  {
   "cell_type": "markdown",
   "id": "cc3436d0",
   "metadata": {},
   "source": [
    "# Visualisation"
   ]
  },
  {
   "cell_type": "code",
   "execution_count": 40,
   "id": "4a5e788e",
   "metadata": {},
   "outputs": [
    {
     "data": {
      "text/plain": [
       "<AxesSubplot:>"
      ]
     },
     "execution_count": 40,
     "metadata": {},
     "output_type": "execute_result"
    },
    {
     "data": {
      "text/plain": [
       "<Figure size 720x504 with 0 Axes>"
      ]
     },
     "metadata": {},
     "output_type": "display_data"
    },
    {
     "data": {
      "image/png": "[encoded data removed]",
      "text/plain": [
       "<Figure size 1080x720 with 1 Axes>"
      ]
     },
     "metadata": {
      "needs_background": "light"
     },
     "output_type": "display_data"
    }
   ],
   "source": [
    "fig = plt.figure(figsize =(10, 7))\n",
    "graph = data1.head(50)\n",
    "graph.plot(kind='bar',figsize=(15,10))\n"
   ]
  },
  {
   "cell_type": "code",
   "execution_count": null,
   "id": "333dd464",
   "metadata": {},
   "outputs": [],
   "source": []
  }
 ],
 "metadata": {
  "kernelspec": {
   "display_name": "Python 3",
   "language": "python",
   "name": "python3"
  },
  "language_info": {
   "codemirror_mode": {
    "name": "ipython",
    "version": 3
   },
   "file_extension": ".py",
   "mimetype": "text/x-python",
   "name": "python",
   "nbconvert_exporter": "python",
   "pygments_lexer": "ipython3",
   "version": "3.8.8"
  }
 },
 "nbformat": 4,
 "nbformat_minor": 5
}
